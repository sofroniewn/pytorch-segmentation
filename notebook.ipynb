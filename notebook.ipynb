{
 "cells": [
  {
   "cell_type": "markdown",
   "metadata": {},
   "source": [
    "## Murine bone-marrow derived macrophages"
   ]
  },
  {
   "cell_type": "markdown",
   "metadata": {},
   "source": [
    "https://data.broadinstitute.org/bbbc/BBBC020/"
   ]
  },
  {
   "cell_type": "markdown",
   "metadata": {},
   "source": [
    "## Make a torch dataset"
   ]
  },
  {
   "cell_type": "code",
   "execution_count": 1,
   "metadata": {
    "collapsed": true
   },
   "outputs": [],
   "source": [
    "from segmentation.datasets import BroadDataset"
   ]
  },
  {
   "cell_type": "markdown",
   "metadata": {},
   "source": [
    "### Show some images"
   ]
  },
  {
   "cell_type": "code",
   "execution_count": 2,
   "metadata": {
    "collapsed": true
   },
   "outputs": [],
   "source": [
    "%matplotlib inline\n",
    "import matplotlib.pyplot as plt"
   ]
  },
  {
   "cell_type": "code",
   "execution_count": 3,
   "metadata": {
    "collapsed": true
   },
   "outputs": [],
   "source": [
    "#base = '/Users/nicholassofroniew/Documents/BBBC/BBBC020_v1/BBBC020_v1-cells'\n",
    "base = '/Users/nicholassofroniew/Documents/DATA/neurofinder/mean2'\n",
    "train_dataset = BroadDataset(base, 'train')"
   ]
  },
  {
   "cell_type": "code",
   "execution_count": 4,
   "metadata": {},
   "outputs": [
    {
     "data": {
      "image/png": "[encoded data removed]",
      "text/plain": [
       "<matplotlib.figure.Figure at 0x81e2a3cc0>"
      ]
     },
     "metadata": {},
     "output_type": "display_data"
    }
   ],
   "source": [
    "fig = plt.figure()\n",
    "\n",
    "for i in range(len(train_dataset)):\n",
    "    img, mask = train_dataset[i]\n",
    "\n",
    "#    print(i, sample['image'].shape)\n",
    "\n",
    "    ax = plt.subplot(2, 4, i + 1)\n",
    "    plt.tight_layout()\n",
    "    ax.set_title('Sample #{}'.format(i))\n",
    "    ax.axis('off')\n",
    "    plt.imshow(img)\n",
    "    ax = plt.subplot(2, 4, i + 5)\n",
    "    ax.set_title('Mask #{}'.format(i))\n",
    "    ax.axis('off')\n",
    "    plt.imshow(mask)\n",
    "    if i == 3:\n",
    "        plt.show()\n",
    "        break"
   ]
  },
  {
   "cell_type": "code",
   "execution_count": 5,
   "metadata": {},
   "outputs": [
    {
     "data": {
      "text/plain": [
       "PIL.Image.Image"
      ]
     },
     "execution_count": 5,
     "metadata": {},
     "output_type": "execute_result"
    }
   ],
   "source": [
    "type(img)"
   ]
  },
  {
   "cell_type": "code",
   "execution_count": 8,
   "metadata": {},
   "outputs": [
    {
     "name": "stdout",
     "output_type": "stream",
     "text": [
      "255\n",
      "255\n"
     ]
    }
   ],
   "source": [
    "from numpy import asarray\n",
    "print(asarray(img).max())\n",
    "print(asarray(mask).max())"
   ]
  },
  {
   "cell_type": "markdown",
   "metadata": {},
   "source": [
    "## Define transforms"
   ]
  },
  {
   "cell_type": "code",
   "execution_count": 86,
   "metadata": {
    "collapsed": true
   },
   "outputs": [],
   "source": [
    "from torchvision import transforms\n",
    "import segmentation.transforms as extended_transforms\n",
    "\n",
    "joint_transform = extended_transforms.Compose([\n",
    "    extended_transforms.RandomHorizontallyFlip(),\n",
    "    extended_transforms.RandomVerticallyFlip()\n",
    "#    extended_transforms.CenterCrop(512),\n",
    "#    extended_transforms.RandomRotate(45),\n",
    "#    extended_transforms.RandomWarp(5, 20)\n",
    "])\n",
    "\n",
    "input_transform = transforms.Compose(\n",
    "    [transforms.ToTensor(),\n",
    "     #transforms.Normalize((0.5, 0.5, 0.5), (0.5, 0.5, 0.5))])\n",
    "     ])\n",
    "target_transform = extended_transforms.MaskToTensor()"
   ]
  },
  {
   "cell_type": "code",
   "execution_count": 91,
   "metadata": {
    "collapsed": true
   },
   "outputs": [],
   "source": [
    "train_dataset = BroadDataset(base, 'train', joint_transform=joint_transform)"
   ]
  },
  {
   "cell_type": "code",
   "execution_count": 92,
   "metadata": {},
   "outputs": [
    {
     "data": {
      "image/png": "[encoded data removed]",
      "text/plain": [
       "<matplotlib.figure.Figure at 0x1c28a6e588>"
      ]
     },
     "metadata": {},
     "output_type": "display_data"
    }
   ],
   "source": [
    "fig = plt.figure()\n",
    "\n",
    "for i in range(len(train_dataset)):\n",
    "    img, mask = train_dataset[i]\n",
    "\n",
    "#    print(i, sample['image'].shape)\n",
    "\n",
    "    ax = plt.subplot(2, 4, i + 1)\n",
    "    plt.tight_layout()\n",
    "    ax.set_title('Sample #{}'.format(i))\n",
    "    ax.axis('off')\n",
    "    plt.imshow(img)\n",
    "    ax = plt.subplot(2, 4, i + 5)\n",
    "    ax.set_title('Mask #{}'.format(i))\n",
    "    ax.axis('off')\n",
    "    plt.imshow(mask)\n",
    "    if i == 3:\n",
    "        plt.show()\n",
    "        break"
   ]
  },
  {
   "cell_type": "code",
   "execution_count": 12,
   "metadata": {},
   "outputs": [
    {
     "data": {
      "text/plain": [
       "PIL.Image.Image"
      ]
     },
     "execution_count": 12,
     "metadata": {},
     "output_type": "execute_result"
    }
   ],
   "source": [
    "type(img)"
   ]
  },
  {
   "cell_type": "code",
   "execution_count": 13,
   "metadata": {},
   "outputs": [
    {
     "name": "stdout",
     "output_type": "stream",
     "text": [
      "250\n",
      "255\n"
     ]
    }
   ],
   "source": [
    "from numpy import asarray\n",
    "print(asarray(img).max())\n",
    "print(asarray(mask).max())"
   ]
  },
  {
   "cell_type": "code",
   "execution_count": 14,
   "metadata": {
    "collapsed": true
   },
   "outputs": [],
   "source": [
    "train_dataset = BroadDataset(base, 'train', joint_transform=joint_transform, input_transform=input_transform, target_transform=target_transform)"
   ]
  },
  {
   "cell_type": "code",
   "execution_count": 15,
   "metadata": {
    "collapsed": true
   },
   "outputs": [],
   "source": [
    "from torch.utils.data import DataLoader\n",
    "trainloader = DataLoader(train_dataset, batch_size=1,\n",
    "                                          shuffle=True, num_workers=2)"
   ]
  },
  {
   "cell_type": "markdown",
   "metadata": {},
   "source": [
    "## Load network"
   ]
  },
  {
   "cell_type": "code",
   "execution_count": 16,
   "metadata": {
    "collapsed": true
   },
   "outputs": [],
   "source": [
    "from segmentation.model import UNet"
   ]
  },
  {
   "cell_type": "code",
   "execution_count": 17,
   "metadata": {
    "collapsed": true
   },
   "outputs": [],
   "source": [
    "net = UNet(1)"
   ]
  },
  {
   "cell_type": "code",
   "execution_count": 18,
   "metadata": {},
   "outputs": [
    {
     "data": {
      "text/plain": [
       "UNet (\n",
       "  (enc1): _EncoderBlock (\n",
       "    (encode): Sequential (\n",
       "      (0): Conv2d(3, 64, kernel_size=(3, 3), stride=(1, 1))\n",
       "      (1): BatchNorm2d(64, eps=1e-05, momentum=0.1, affine=True)\n",
       "      (2): ReLU (inplace)\n",
       "      (3): Conv2d(64, 64, kernel_size=(3, 3), stride=(1, 1))\n",
       "      (4): BatchNorm2d(64, eps=1e-05, momentum=0.1, affine=True)\n",
       "      (5): ReLU (inplace)\n",
       "      (6): MaxPool2d (size=(2, 2), stride=(2, 2), dilation=(1, 1))\n",
       "    )\n",
       "  )\n",
       "  (enc2): _EncoderBlock (\n",
       "    (encode): Sequential (\n",
       "      (0): Conv2d(64, 128, kernel_size=(3, 3), stride=(1, 1))\n",
       "      (1): BatchNorm2d(128, eps=1e-05, momentum=0.1, affine=True)\n",
       "      (2): ReLU (inplace)\n",
       "      (3): Conv2d(128, 128, kernel_size=(3, 3), stride=(1, 1))\n",
       "      (4): BatchNorm2d(128, eps=1e-05, momentum=0.1, affine=True)\n",
       "      (5): ReLU (inplace)\n",
       "      (6): MaxPool2d (size=(2, 2), stride=(2, 2), dilation=(1, 1))\n",
       "    )\n",
       "  )\n",
       "  (enc3): _EncoderBlock (\n",
       "    (encode): Sequential (\n",
       "      (0): Conv2d(128, 256, kernel_size=(3, 3), stride=(1, 1))\n",
       "      (1): BatchNorm2d(256, eps=1e-05, momentum=0.1, affine=True)\n",
       "      (2): ReLU (inplace)\n",
       "      (3): Conv2d(256, 256, kernel_size=(3, 3), stride=(1, 1))\n",
       "      (4): BatchNorm2d(256, eps=1e-05, momentum=0.1, affine=True)\n",
       "      (5): ReLU (inplace)\n",
       "      (6): MaxPool2d (size=(2, 2), stride=(2, 2), dilation=(1, 1))\n",
       "    )\n",
       "  )\n",
       "  (enc4): _EncoderBlock (\n",
       "    (encode): Sequential (\n",
       "      (0): Conv2d(256, 512, kernel_size=(3, 3), stride=(1, 1))\n",
       "      (1): BatchNorm2d(512, eps=1e-05, momentum=0.1, affine=True)\n",
       "      (2): ReLU (inplace)\n",
       "      (3): Conv2d(512, 512, kernel_size=(3, 3), stride=(1, 1))\n",
       "      (4): BatchNorm2d(512, eps=1e-05, momentum=0.1, affine=True)\n",
       "      (5): ReLU (inplace)\n",
       "      (6): Dropout (p = 0.5)\n",
       "      (7): MaxPool2d (size=(2, 2), stride=(2, 2), dilation=(1, 1))\n",
       "    )\n",
       "  )\n",
       "  (center): _DecoderBlock (\n",
       "    (decode): Sequential (\n",
       "      (0): Conv2d(512, 1024, kernel_size=(3, 3), stride=(1, 1))\n",
       "      (1): BatchNorm2d(1024, eps=1e-05, momentum=0.1, affine=True)\n",
       "      (2): ReLU (inplace)\n",
       "      (3): Conv2d(1024, 1024, kernel_size=(3, 3), stride=(1, 1))\n",
       "      (4): BatchNorm2d(1024, eps=1e-05, momentum=0.1, affine=True)\n",
       "      (5): ReLU (inplace)\n",
       "      (6): ConvTranspose2d(1024, 512, kernel_size=(2, 2), stride=(2, 2))\n",
       "    )\n",
       "  )\n",
       "  (dec4): _DecoderBlock (\n",
       "    (decode): Sequential (\n",
       "      (0): Conv2d(1024, 512, kernel_size=(3, 3), stride=(1, 1))\n",
       "      (1): BatchNorm2d(512, eps=1e-05, momentum=0.1, affine=True)\n",
       "      (2): ReLU (inplace)\n",
       "      (3): Conv2d(512, 512, kernel_size=(3, 3), stride=(1, 1))\n",
       "      (4): BatchNorm2d(512, eps=1e-05, momentum=0.1, affine=True)\n",
       "      (5): ReLU (inplace)\n",
       "      (6): ConvTranspose2d(512, 256, kernel_size=(2, 2), stride=(2, 2))\n",
       "    )\n",
       "  )\n",
       "  (dec3): _DecoderBlock (\n",
       "    (decode): Sequential (\n",
       "      (0): Conv2d(512, 256, kernel_size=(3, 3), stride=(1, 1))\n",
       "      (1): BatchNorm2d(256, eps=1e-05, momentum=0.1, affine=True)\n",
       "      (2): ReLU (inplace)\n",
       "      (3): Conv2d(256, 256, kernel_size=(3, 3), stride=(1, 1))\n",
       "      (4): BatchNorm2d(256, eps=1e-05, momentum=0.1, affine=True)\n",
       "      (5): ReLU (inplace)\n",
       "      (6): ConvTranspose2d(256, 128, kernel_size=(2, 2), stride=(2, 2))\n",
       "    )\n",
       "  )\n",
       "  (dec2): _DecoderBlock (\n",
       "    (decode): Sequential (\n",
       "      (0): Conv2d(256, 128, kernel_size=(3, 3), stride=(1, 1))\n",
       "      (1): BatchNorm2d(128, eps=1e-05, momentum=0.1, affine=True)\n",
       "      (2): ReLU (inplace)\n",
       "      (3): Conv2d(128, 128, kernel_size=(3, 3), stride=(1, 1))\n",
       "      (4): BatchNorm2d(128, eps=1e-05, momentum=0.1, affine=True)\n",
       "      (5): ReLU (inplace)\n",
       "      (6): ConvTranspose2d(128, 64, kernel_size=(2, 2), stride=(2, 2))\n",
       "    )\n",
       "  )\n",
       "  (dec1): Sequential (\n",
       "    (0): Conv2d(128, 64, kernel_size=(3, 3), stride=(1, 1))\n",
       "    (1): BatchNorm2d(64, eps=1e-05, momentum=0.1, affine=True)\n",
       "    (2): ReLU (inplace)\n",
       "    (3): Conv2d(64, 64, kernel_size=(3, 3), stride=(1, 1))\n",
       "    (4): BatchNorm2d(64, eps=1e-05, momentum=0.1, affine=True)\n",
       "    (5): ReLU (inplace)\n",
       "  )\n",
       "  (final): Conv2d(64, 1, kernel_size=(1, 1), stride=(1, 1))\n",
       ")"
      ]
     },
     "execution_count": 18,
     "metadata": {},
     "output_type": "execute_result"
    }
   ],
   "source": [
    "net.train()"
   ]
  },
  {
   "cell_type": "markdown",
   "metadata": {},
   "source": [
    "### Define loss function and optimizer"
   ]
  },
  {
   "cell_type": "code",
   "execution_count": 19,
   "metadata": {
    "collapsed": true
   },
   "outputs": [],
   "source": [
    "from segmentation.utilities import mIoULoss, CrossEntropyLoss2d, BCELoss2d"
   ]
  },
  {
   "cell_type": "code",
   "execution_count": 20,
   "metadata": {
    "collapsed": true
   },
   "outputs": [],
   "source": [
    "from torch import nn\n",
    "criterion = mIoULoss(size_average=False)\n",
    "#criterion = nn.NLLLoss2d()\n",
    "#criterion = nn.BCEWithLogitsLoss()"
   ]
  },
  {
   "cell_type": "code",
   "execution_count": 21,
   "metadata": {
    "collapsed": true
   },
   "outputs": [],
   "source": [
    "import torch.optim as optim\n",
    "optimizer = optim.SGD(net.parameters(), lr=0.001, momentum=0.9)"
   ]
  },
  {
   "cell_type": "markdown",
   "metadata": {},
   "source": [
    "### Pass data throuhg network"
   ]
  },
  {
   "cell_type": "code",
   "execution_count": 22,
   "metadata": {
    "collapsed": true
   },
   "outputs": [],
   "source": [
    "import torch.nn.functional as F\n",
    "from torch.autograd import Variable\n",
    "img, mask = train_dataset[0]\n",
    "tmp = Variable(mask).unsqueeze(0)\n",
    "foo = net(Variable(img).unsqueeze(0)).squeeze(0)"
   ]
  },
  {
   "cell_type": "code",
   "execution_count": 23,
   "metadata": {},
   "outputs": [
    {
     "name": "stdout",
     "output_type": "stream",
     "text": [
      "Variable containing:\n",
      "( 0 ,.,.) = \n",
      "   0   0   0  ...    0   0   0\n",
      "   0   0   0  ...    0   0   0\n",
      "   0   0   0  ...    0   0   0\n",
      "     ...       ⋱       ...    \n",
      "   0   0   0  ...    0   0   0\n",
      "   0   0   0  ...    0   0   0\n",
      "   0   0   0  ...    0   0   0\n",
      "[torch.LongTensor of size 1x512x512]\n",
      "\n",
      "Variable containing:\n",
      "( 0 ,.,.) = \n",
      " -9.6652e-02 -4.9082e-01 -5.0505e-01  ...  -2.2052e-01 -2.8961e-01 -7.6276e-01\n",
      " -2.6199e-01 -4.6063e-01 -4.7025e-01  ...  -3.3456e-01 -3.5810e-01 -5.4324e-01\n",
      " -2.8373e-01 -4.5593e-01 -4.6742e-01  ...  -3.6667e-01 -3.9041e-01 -5.1628e-01\n",
      "                 ...                   ⋱                   ...                \n",
      " -1.7106e-01 -4.6050e-01 -5.1971e-01  ...  -2.8980e-01 -3.5905e-01 -6.7023e-01\n",
      " -2.0417e-01 -4.5285e-01 -4.9993e-01  ...  -2.8997e-01 -3.5171e-01 -6.2746e-01\n",
      " -4.1074e-01 -4.1694e-01 -4.0393e-01  ...  -3.7133e-01 -3.6778e-01 -3.9293e-01\n",
      "[torch.FloatTensor of size 1x512x512]\n",
      "\n"
     ]
    }
   ],
   "source": [
    "print(tmp)\n",
    "print(foo)\n",
    "#print(bar)"
   ]
  },
  {
   "cell_type": "code",
   "execution_count": 24,
   "metadata": {},
   "outputs": [
    {
     "name": "stdout",
     "output_type": "stream",
     "text": [
      "Variable containing:\n",
      " 94.1204\n",
      "[torch.FloatTensor of size 1]\n",
      "\n"
     ]
    }
   ],
   "source": [
    "loss = criterion(foo, tmp)\n",
    "print(loss)"
   ]
  },
  {
   "cell_type": "code",
   "execution_count": 25,
   "metadata": {
    "collapsed": true
   },
   "outputs": [],
   "source": [
    "loss.backward()"
   ]
  },
  {
   "cell_type": "markdown",
   "metadata": {},
   "source": [
    "### Train network"
   ]
  },
  {
   "cell_type": "code",
   "execution_count": 26,
   "metadata": {
    "collapsed": true
   },
   "outputs": [],
   "source": [
    "val_dataset = BroadDataset(base, 'train', input_transform=input_transform, target_transform=target_transform)"
   ]
  },
  {
   "cell_type": "code",
   "execution_count": 27,
   "metadata": {
    "collapsed": true
   },
   "outputs": [],
   "source": [
    "valloader = DataLoader(val_dataset, batch_size=1,\n",
    "                                          shuffle=False, num_workers=2)"
   ]
  },
  {
   "cell_type": "code",
   "execution_count": 28,
   "metadata": {
    "collapsed": true
   },
   "outputs": [],
   "source": [
    "from segmentation.main import train, validate\n",
    "from os.path import isdir, join\n",
    "from os import mkdir"
   ]
  },
  {
   "cell_type": "code",
   "execution_count": 27,
   "metadata": {},
   "outputs": [
    {
     "name": "stdout",
     "output_type": "stream",
     "text": [
      "[1,    18] loss: 89.237\n",
      "Mean loss: 84.83 %\n",
      "[2,    18] loss: 88.045\n",
      "Mean loss: 84.19 %\n"
     ]
    }
   ],
   "source": [
    "save_epoch = 1\n",
    "epochs = 2\n",
    "\n",
    "for epoch in range(epochs):  # loop over the dataset multiple times\n",
    "        train(trainloader, net, criterion, optimizer, epoch, 18)\n",
    "        # save out model every n epochs\n",
    "        if save_epoch is not None:\n",
    "            if epoch % save_epoch == save_epoch-1:\n",
    "                snapshot_name = 'model-%04d' % epoch\n",
    "                save_path = join(base, 'models-local', snapshot_name)\n",
    "                if not isdir(save_path):\n",
    "                    mkdir(save_path)\n",
    "                validate(valloader, net, criterion, optimizer, True, save_path)  "
   ]
  },
  {
   "cell_type": "markdown",
   "metadata": {},
   "source": [
    "### Load and save model"
   ]
  },
  {
   "cell_type": "code",
   "execution_count": 75,
   "metadata": {
    "collapsed": true
   },
   "outputs": [],
   "source": [
    "import torch\n",
    "from os.path import join\n",
    "snapshot_name = 'model-0099/model'"
   ]
  },
  {
   "cell_type": "code",
   "execution_count": 76,
   "metadata": {
    "collapsed": true
   },
   "outputs": [],
   "source": [
    "#torch.save(net.state_dict(), join(base, 'models-local', snapshot_name + '.pth'))\n",
    "#torch.save(optimizer.state_dict(), join(base, 'models', 'opt_' + snapshot_name + '.pth'))"
   ]
  },
  {
   "cell_type": "code",
   "execution_count": 77,
   "metadata": {
    "collapsed": true
   },
   "outputs": [],
   "source": [
    "netCompare = UNet(1)"
   ]
  },
  {
   "cell_type": "code",
   "execution_count": 78,
   "metadata": {
    "collapsed": true
   },
   "outputs": [],
   "source": [
    "netCompare.load_state_dict(torch.load(join(base, 'models-local2', snapshot_name + '.pth'), map_location={'cuda:0': 'cpu'}))\n",
    "#optimizer.load_state_dict(torch.load(join(base, 'models', 'opt_' + snapshot_name + '.pth'), map_location={'cuda:0': 'cpu'}))"
   ]
  },
  {
   "cell_type": "code",
   "execution_count": 79,
   "metadata": {
    "collapsed": true
   },
   "outputs": [],
   "source": [
    "netCompare.train();"
   ]
  },
  {
   "cell_type": "markdown",
   "metadata": {},
   "source": [
    "### Look at perforance on validation set"
   ]
  },
  {
   "cell_type": "code",
   "execution_count": 80,
   "metadata": {},
   "outputs": [],
   "source": [
    "from torch.autograd import Variable\n",
    "img, mask = val_dataset[0]\n",
    "output = netCompare(Variable(img).unsqueeze(0))"
   ]
  },
  {
   "cell_type": "code",
   "execution_count": 81,
   "metadata": {
    "collapsed": true
   },
   "outputs": [],
   "source": [
    "prediction = F.sigmoid(output)"
   ]
  },
  {
   "cell_type": "code",
   "execution_count": 82,
   "metadata": {},
   "outputs": [
    {
     "name": "stdout",
     "output_type": "stream",
     "text": [
      "21.4345\n"
     ]
    },
    {
     "data": {
      "image/png": "[encoded data removed]",
      "text/plain": [
       "<matplotlib.figure.Figure at 0x1c2d33acf8>"
      ]
     },
     "metadata": {},
     "output_type": "display_data"
    }
   ],
   "source": [
    "ax = plt.subplot(1,3,1);\n",
    "plt.imshow(255*img.numpy().transpose(1,2,0))\n",
    "ax.axis('off');\n",
    "ax = plt.subplot(1,3,2);\n",
    "plt.imshow(mask.numpy())\n",
    "ax.axis('off');\n",
    "ax = plt.subplot(1,3,3);\n",
    "plt.imshow(prediction.squeeze(0).squeeze(0).data.numpy())\n",
    "ax.axis('off');\n",
    "loss = criterion(output, Variable(mask).unsqueeze(0))\n",
    "print(loss.data.numpy()[0])"
   ]
  },
  {
   "cell_type": "code",
   "execution_count": 43,
   "metadata": {
    "collapsed": true
   },
   "outputs": [],
   "source": [
    "from skimage.io import imsave"
   ]
  },
  {
   "cell_type": "code",
   "execution_count": null,
   "metadata": {
    "collapsed": true
   },
   "outputs": [],
   "source": [
    "correct = 0\n",
    "total = 0\n",
    "ind = 0\n",
    "for data in valloader:\n",
    "    images, labels = data\n",
    "    outputs = net(Variable(images))\n",
    "    loss = criterion(outputs, Variable(labels)).data.numpy()[0]\n",
    "    prediction = F.sigmoid(outputs)\n",
    "    predict = prediction.squeeze(0).squeeze(0).data.numpy()\n",
    "    #imsave(join(base, 'predictions','predict_%04d.tif' % ind), (255*predict).astype('uint8'), plugin='tifffile', photometric='minisblack')\n",
    "    \n",
    "    print(loss)\n",
    "    total += labels.size(0)\n",
    "    correct += loss\n",
    "    ind += 1\n",
    "    \n",
    "print('Mean loss: %.2f %%' % (\n",
    "    correct / total))"
   ]
  },
  {
   "cell_type": "code",
   "execution_count": 151,
   "metadata": {
    "collapsed": true
   },
   "outputs": [],
   "source": [
    "predict = prediction.squeeze(0).squeeze(0).data.numpy()"
   ]
  },
  {
   "cell_type": "code",
   "execution_count": 32,
   "metadata": {
    "collapsed": true
   },
   "outputs": [],
   "source": [
    "imsave(join(base, 'predict_0000.tif'), (255*predict).astype('uint8'), plugin='tifffile', photometric='minisblack')"
   ]
  },
  {
   "cell_type": "code",
   "execution_count": 33,
   "metadata": {},
   "outputs": [
    {
     "data": {
      "text/plain": [
       "(512, 512)"
      ]
     },
     "execution_count": 33,
     "metadata": {},
     "output_type": "execute_result"
    }
   ],
   "source": [
    "predict.shape"
   ]
  },
  {
   "cell_type": "code",
   "execution_count": null,
   "metadata": {
    "collapsed": true
   },
   "outputs": [],
   "source": []
  }
 ],
 "metadata": {
  "kernelspec": {
   "display_name": "Python 3",
   "language": "python",
   "name": "python3"
  },
  "language_info": {
   "codemirror_mode": {
    "name": "ipython",
    "version": 3
   },
   "file_extension": ".py",
   "mimetype": "text/x-python",
   "name": "python",
   "nbconvert_exporter": "python",
   "pygments_lexer": "ipython3",
   "version": "3.6.2"
  }
 },
 "nbformat": 4,
 "nbformat_minor": 2
}
